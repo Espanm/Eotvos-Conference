{
 "cells": [
  {
   "cell_type": "code",
   "execution_count": 1,
   "id": "df32743d",
   "metadata": {},
   "outputs": [],
   "source": [
    "import numpy as np\n",
    "import pandas as pd\n",
    "import matplotlib.pyplot as plt\n",
    "import pandas_ta as ta\n",
    "import yfinance as yf\n",
    "\n",
    "from sklearn.ensemble import RandomForestRegressor\n",
    "from sklearn.model_selection import train_test_split\n",
    "from sklearn.preprocessing import scale\n",
    "from sklearn.metrics import r2_score"
   ]
  },
  {
   "cell_type": "code",
   "execution_count": 3,
   "id": "c8af46ec",
   "metadata": {},
   "outputs": [],
   "source": [
    "with open(\"sp500_list.txt\", \"r\") as f:\n",
    "    sp500_list = [line.strip() for line in f]"
   ]
  },
  {
   "cell_type": "code",
   "execution_count": 4,
   "id": "ebcf96f3",
   "metadata": {},
   "outputs": [],
   "source": [
    "rfdata = pd.read_csv(\"market_data.csv\", index_col=0, low_memory=False)\n",
    "rfdata = rfdata.drop(rfdata.index[[0,1]])\n",
    "rfdata.columns = pd.MultiIndex.from_arrays([[\"Adj Close\"]*503 + [\"Volume\"]*503, sp500_list*2])\n",
    "rfdata.index = pd.core.indexes.datetimes.DatetimeIndex(rfdata.index)\n",
    "rfdata = rfdata.astype(float)"
   ]
  },
  {
   "cell_type": "code",
   "execution_count": 7,
   "id": "ebbbf813",
   "metadata": {},
   "outputs": [],
   "source": [
    "rel_list = list(rfdata.dropna(axis=1)[\"Adj Close\"].columns)\n",
    "\n",
    "feature_names = ['Ret-1',\n",
    " 'Ret-2',\n",
    " 'Ret-3',\n",
    " 'Ret-4',\n",
    " 'Ret-5',\n",
    " 'Vol-1',\n",
    " 'Vol-2',\n",
    " 'Vol-3',\n",
    " 'Vol-4',\n",
    " 'Vol-5']"
   ]
  },
  {
   "cell_type": "code",
   "execution_count": 8,
   "id": "976f50ae",
   "metadata": {},
   "outputs": [],
   "source": [
    "import warnings\n",
    "warnings.filterwarnings(\"ignore\", message=\".*Numerical issues were encountered when centering the data.*\")"
   ]
  },
  {
   "cell_type": "code",
   "execution_count": 9,
   "id": "49631e02",
   "metadata": {},
   "outputs": [
    {
     "name": "stdout",
     "output_type": "stream",
     "text": [
      "CPU times: total: 4min 31s\n",
      "Wall time: 4min 34s\n"
     ]
    }
   ],
   "source": [
    "%%time\n",
    "\n",
    "score_train = []\n",
    "score_test = []\n",
    "\n",
    "df_pred = pd.DataFrame(columns=rel_list)\n",
    "\n",
    "for i in rel_list:\n",
    "    frame = pd.DataFrame({'Adj Close': rfdata[\"Adj Close\"][i], 'Volume': rfdata[\"Volume\"][i]})\n",
    "    \n",
    "    frame[\"Return\"] = frame[\"Adj Close\"].pct_change()\n",
    "    \n",
    "    for n in range(1,6):\n",
    "\n",
    "        frame['Ret-' + str(n)] = frame[\"Return\"].shift(n)\n",
    "        frame[\"Vol-\" + str(n)] = frame[\"Volume\"].shift(n)\n",
    "    \n",
    "    frame = frame.dropna()\n",
    "   \n",
    "\n",
    "    features = frame[feature_names]\n",
    "    targets = frame['Return']\n",
    "    train_features =features[\"2013-01-01\":\"2022-12-31\"]\n",
    "    train_targets = targets[\"2013-01-01\":\"2022-12-31\"]\n",
    "    test_features = features[\"2022-12-31\":]\n",
    "    test_targets = targets[\"2022-12-31\":]\n",
    "    \n",
    "    rfr = RandomForestRegressor(n_estimators=20, max_depth=4, min_samples_split=20, min_samples_leaf=4)\n",
    "    fit = rfr.fit(scale(train_features), train_targets)\n",
    "    \n",
    "    score_train.append(fit.score(scale(train_features), train_targets))\n",
    "    score_test.append(fit.score(scale(test_features), test_targets))\n",
    "    \n",
    "    df_pred[i] = list(fit.predict(scale(test_features)))\n",
    "    \n",
    "    \n",
    "\n",
    "    \n",
    "df_score = pd.DataFrame({\"score_train\" : score_train, \"score_test\": score_test}, index=rel_list)\n",
    "    "
   ]
  },
  {
   "cell_type": "code",
   "execution_count": 9,
   "id": "d9188e5a",
   "metadata": {},
   "outputs": [],
   "source": [
    "#df_score.to_csv(\"RF2score.csv\")\n",
    "#df_pred.to_csv(\"RF2pred.csv\")"
   ]
  },
  {
   "cell_type": "code",
   "execution_count": 11,
   "id": "8c78c3fe",
   "metadata": {},
   "outputs": [
    {
     "data": {
      "text/plain": [
       "score_train    0.079621\n",
       "score_test    -0.028297\n",
       "dtype: float64"
      ]
     },
     "execution_count": 11,
     "metadata": {},
     "output_type": "execute_result"
    }
   ],
   "source": [
    "df_score.mean()"
   ]
  },
  {
   "cell_type": "code",
   "execution_count": 12,
   "id": "6dfa12dd",
   "metadata": {},
   "outputs": [],
   "source": [
    "from sklearn.neighbors import KNeighborsRegressor"
   ]
  },
  {
   "cell_type": "code",
   "execution_count": 13,
   "id": "c6e6b0ab",
   "metadata": {
    "scrolled": true
   },
   "outputs": [
    {
     "name": "stdout",
     "output_type": "stream",
     "text": [
      "CPU times: total: 1min 59s\n",
      "Wall time: 2min 3s\n"
     ]
    }
   ],
   "source": [
    "%%time\n",
    "\n",
    "score_train_knn = []\n",
    "score_test_knn = []\n",
    "\n",
    "knn_pred = pd.DataFrame(columns=rel_list)\n",
    "\n",
    "for i in rel_list:\n",
    "    frame = pd.DataFrame({'Adj Close': rfdata[\"Adj Close\"][i], 'Volume': rfdata[\"Volume\"][i]})\n",
    "    \n",
    "    frame[\"Return\"] = frame[\"Adj Close\"].pct_change()\n",
    "    \n",
    "    for n in range(1,6):\n",
    "\n",
    "        frame['Ret-' + str(n)] = frame[\"Return\"].shift(n)\n",
    "        frame[\"Vol-\" + str(n)] = frame[\"Volume\"].shift(n)\n",
    "    \n",
    "    frame = frame.dropna()\n",
    "   \n",
    "\n",
    "    features = frame[feature_names]\n",
    "    targets = frame['Return']\n",
    "    train_features =features[\"2013-01-01\":\"2022-12-30\"]\n",
    "    train_targets = targets[\"2013-01-01\":\"2022-12-30\"]\n",
    "    test_features = features[\"2022-12-30\":]\n",
    "    test_targets = targets[\"2022-12-30\":]\n",
    "    \n",
    "    knn = KNeighborsRegressor(n_neighbors=20)\n",
    "    fit_knn = knn.fit(scale(train_features), train_targets)\n",
    "    \n",
    "    score_train_knn.append(fit_knn.score(scale(train_features), train_targets))\n",
    "    score_test_knn.append(fit_knn.score(scale(test_features), test_targets))\n",
    "    knn_pred[i] = list(fit.predict(scale(test_features)))\n",
    "    \n",
    "    \n",
    "\n",
    "knn_score = pd.DataFrame({\"score_train\" : score_train_knn, \"score_test\": score_test_knn}, index=rel_list)"
   ]
  },
  {
   "cell_type": "code",
   "execution_count": 10,
   "id": "61c30a88",
   "metadata": {},
   "outputs": [],
   "source": [
    "#knn_score.to_csv(\"KNN2score.csv\")\n",
    "#knn_pred.to_csv(\"KNN2pred.csv\")"
   ]
  },
  {
   "cell_type": "code",
   "execution_count": 15,
   "id": "73c64876",
   "metadata": {},
   "outputs": [
    {
     "data": {
      "text/plain": [
       "score_train    0.061398\n",
       "score_test    -0.052859\n",
       "dtype: float64"
      ]
     },
     "execution_count": 15,
     "metadata": {},
     "output_type": "execute_result"
    }
   ],
   "source": [
    "knn_score.mean()"
   ]
  }
 ],
 "metadata": {
  "kernelspec": {
   "display_name": "Python 3 (ipykernel)",
   "language": "python",
   "name": "python3"
  },
  "language_info": {
   "codemirror_mode": {
    "name": "ipython",
    "version": 3
   },
   "file_extension": ".py",
   "mimetype": "text/x-python",
   "name": "python",
   "nbconvert_exporter": "python",
   "pygments_lexer": "ipython3",
   "version": "3.9.18"
  }
 },
 "nbformat": 4,
 "nbformat_minor": 5
}
