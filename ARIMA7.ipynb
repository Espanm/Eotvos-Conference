{
 "cells": [
  {
   "cell_type": "code",
   "execution_count": 3,
   "id": "0a1f8362",
   "metadata": {},
   "outputs": [],
   "source": [
    "import pandas as pd\n",
    "import numpy as np\n",
    "import statsmodels.api as sm\n",
    "from statsmodels.tsa.arima.model import ARIMA\n",
    "import pmdarima as pm\n",
    "from sklearn.metrics import r2_score\n",
    "import warnings "
   ]
  },
  {
   "cell_type": "code",
   "execution_count": 4,
   "id": "0ddcc478",
   "metadata": {},
   "outputs": [],
   "source": [
    "with open(\"sp500_list.txt\", \"r\") as f:\n",
    "    sp500_list = [line.strip() for line in f]"
   ]
  },
  {
   "cell_type": "code",
   "execution_count": 5,
   "id": "c371c21d",
   "metadata": {},
   "outputs": [],
   "source": [
    "rfdata = pd.read_csv(\"market_data.csv\", index_col=0, low_memory=False)\n",
    "rfdata = rfdata.drop(rfdata.index[[0,1]])\n",
    "rfdata.columns = pd.MultiIndex.from_arrays([[\"Adj Close\"]*503 + [\"Volume\"]*503, sp500_list*2])\n",
    "rfdata.index = pd.core.indexes.datetimes.DatetimeIndex(rfdata.index)\n",
    "rfdata = rfdata.astype(float)\n",
    "\n",
    "data = rfdata[\"Adj Close\"]\n",
    "data = data.dropna(axis=1)"
   ]
  },
  {
   "cell_type": "code",
   "execution_count": 6,
   "id": "7b051ca9",
   "metadata": {},
   "outputs": [],
   "source": [
    "data=data.dropna(axis=1)"
   ]
  },
  {
   "cell_type": "code",
   "execution_count": 19,
   "id": "f777c23a",
   "metadata": {
    "scrolled": true
   },
   "outputs": [
    {
     "name": "stdout",
     "output_type": "stream",
     "text": [
      "CPU times: total: 1h 2min 42s\n",
      "Wall time: 1h 8min 43s\n"
     ]
    }
   ],
   "source": [
    "%%time\n",
    "\n",
    "score_train_arima = []\n",
    "score_test_arima = []\n",
    "order = []\n",
    "arima7_pred = pd.DataFrame(columns=data.columns)\n",
    "\n",
    "for i in data.columns:\n",
    "    frame = data[i].resample('W').last().pct_change().dropna()\n",
    "    \n",
    "    train= frame[\"2013-01-01\":\"2023-01-01\"]\n",
    "    test = frame[\"2023-01-08\":]\n",
    "    \n",
    "    model = pm.auto_arima(train, max_p=3, max_q=3)\n",
    "    mod = ARIMA(train, order=model.order)\n",
    "    res = mod.fit()\n",
    "    \n",
    "    pred=[]\n",
    "    for j in range(len(test.index)):\n",
    "        if j == 0:\n",
    "            pred.append(res.forecast().iloc[0])\n",
    "        else:\n",
    "            pred.append(res.extend(list(test[0:j])).forecast().iloc[0])\n",
    "    \n",
    "    score_test_arima.append(r2_score(test, pred))\n",
    "    score_train_arima.append(r2_score(train, res.predict(start=\"2013-01-06\", end =\"2023-01-01\" )))\n",
    "    order.append(model.order)\n",
    "                                                  \n",
    "    arima7_pred[i] = pred\n",
    "    \n",
    "\n",
    "arima7_score = pd.DataFrame({\"score_train\" : score_train_arima, \"score_test\": score_test_arima, \"model\" : order}, data.columns)"
   ]
  },
  {
   "cell_type": "code",
   "execution_count": 27,
   "id": "fa5b7813",
   "metadata": {},
   "outputs": [],
   "source": [
    "#arima7_score.to_csv(\"ARIMA7score.csv\")\n",
    "#arima7_pred.to_csv(\"ARIMA7pred.csv\")"
   ]
  }
 ],
 "metadata": {
  "kernelspec": {
   "display_name": "Python 3 (ipykernel)",
   "language": "python",
   "name": "python3"
  },
  "language_info": {
   "codemirror_mode": {
    "name": "ipython",
    "version": 3
   },
   "file_extension": ".py",
   "mimetype": "text/x-python",
   "name": "python",
   "nbconvert_exporter": "python",
   "pygments_lexer": "ipython3",
   "version": "3.9.18"
  }
 },
 "nbformat": 4,
 "nbformat_minor": 5
}
