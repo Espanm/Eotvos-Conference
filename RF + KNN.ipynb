{
 "cells": [
  {
   "cell_type": "code",
   "execution_count": 3,
   "id": "c169b380",
   "metadata": {},
   "outputs": [],
   "source": [
    "import numpy as np\n",
    "import pandas as pd\n",
    "import matplotlib.pyplot as plt\n",
    "import pandas_ta as ta\n",
    "import yfinance as yf\n",
    "\n",
    "from sklearn.ensemble import RandomForestRegressor\n",
    "from sklearn.model_selection import train_test_split\n",
    "from sklearn.preprocessing import scale"
   ]
  },
  {
   "cell_type": "code",
   "execution_count": 4,
   "id": "a32adeb9",
   "metadata": {},
   "outputs": [],
   "source": [
    "with open(\"sp500_list.txt\", \"r\") as f:\n",
    "    sp500_list = [line.strip() for line in f]"
   ]
  },
  {
   "cell_type": "code",
   "execution_count": 5,
   "id": "8c0eb96a",
   "metadata": {
    "scrolled": true
   },
   "outputs": [],
   "source": [
    "rfdata = pd.read_csv(\"market_data.csv\", index_col=0, low_memory=False)\n",
    "rfdata = rfdata.drop(rfdata.index[[0,1]])\n",
    "rfdata.columns = pd.MultiIndex.from_arrays([[\"Adj Close\"]*503 + [\"Volume\"]*503, sp500_list*2])\n",
    "rfdata.index = pd.core.indexes.datetimes.DatetimeIndex(rfdata.index)\n",
    "rfdata = rfdata.astype(float)"
   ]
  },
  {
   "cell_type": "markdown",
   "id": "5a890f8a",
   "metadata": {},
   "source": [
    "Create rel_list for the iterations and feature names for (X,y) values of the model"
   ]
  },
  {
   "cell_type": "code",
   "execution_count": 6,
   "id": "9593330e",
   "metadata": {},
   "outputs": [],
   "source": [
    "rel_list = list(rfdata.dropna(axis=1)[\"Adj Close\"].columns)\n",
    "feature_names = ['Ret-1', 'ema14', 'rsi14', 'ema30', 'rsi30', 'ema50', 'rsi50', 'ema200', 'rsi200', \"pvt\", \"vol\"]"
   ]
  },
  {
   "cell_type": "code",
   "execution_count": 7,
   "id": "f8bd6209",
   "metadata": {},
   "outputs": [],
   "source": [
    "import warnings\n",
    "warnings.filterwarnings(\"ignore\", message=\".*Numerical issues were encountered.*\")"
   ]
  },
  {
   "cell_type": "code",
   "execution_count": 8,
   "id": "f427a908",
   "metadata": {},
   "outputs": [
    {
     "name": "stdout",
     "output_type": "stream",
     "text": [
      "CPU times: total: 5min 19s\n",
      "Wall time: 5min 36s\n"
     ]
    }
   ],
   "source": [
    "%%time\n",
    "\n",
    "score_train = []\n",
    "score_test = []\n",
    "df_pred = pd.DataFrame(columns=rel_list)\n",
    "\n",
    "for i in rel_list:\n",
    "    frame = pd.DataFrame({'Adj Close': rfdata[\"Adj Close\"][i], 'Volume': rfdata[\"Volume\"][i]})\n",
    "    frame[\"Return\"] = frame[\"Adj Close\"].pct_change()\n",
    "    frame['Ret-1'] = frame['Return'].shift(1)\n",
    "    for n in [14, 30, 50, 200]:\n",
    "        frame['ema' + str(n)] = ta.sma(close=frame['Adj Close'].shift(1), length=n) / frame['Adj Close'].shift(1)\n",
    "        frame['rsi' + str(n)] = ta.rsi(close=frame['Adj Close'].shift(1), length=n) / frame['Adj Close'].shift(1)\n",
    "    frame[\"pvt\"] = ta.pvt(close=frame['Adj Close'].shift(1), volume=frame['Volume'].shift(1))\n",
    "    frame['Vol-1'] = frame['Volume'].shift(1)\n",
    "    frame = frame.dropna()\n",
    "    frame['Vol-1_SMA5'] = ta.sma(close=frame['Vol-1'], length=5)\n",
    "    frame = frame.dropna()\n",
    "    frame[\"vol\"] = frame[\"Vol-1\"] / frame[\"Vol-1_SMA5\"]\n",
    "\n",
    "    features = frame[feature_names]\n",
    "    targets = frame['Return']\n",
    "    train_features = features[\"2013-01-01\":\"2022-12-30\"]\n",
    "    train_targets = targets[\"2013-01-01\":\"2022-12-30\"]\n",
    "    test_features = features[\"2022-12-30\":]\n",
    "    test_targets = targets[\"2022-12-30\":]\n",
    "    \n",
    "\n",
    "    features = frame[feature_names]\n",
    "    targets = frame['Return']\n",
    "    train_features =features[\"2013-01-01\":\"2022-12-30\"]\n",
    "    train_targets = targets[\"2013-01-01\":\"2022-12-30\"]\n",
    "    test_features = features[\"2022-12-30\":]\n",
    "    test_targets = targets[\"2022-12-30\":]\n",
    "    \n",
    "    rfr = RandomForestRegressor(n_estimators=20, max_depth=4, min_samples_split=20, min_samples_leaf=4)\n",
    "    fit = rfr.fit(scale(train_features), train_targets)\n",
    "    \n",
    "    score_train.append(fit.score(scale(train_features), train_targets))\n",
    "    score_test.append(fit.score(scale(test_features), test_targets))\n",
    "    df_pred[i] = list(fit.predict(scale(test_features)))\n",
    "    \n",
    "    \n",
    "\n",
    "    \n",
    "df_score = pd.DataFrame({\"score_train\" : score_train, \"score_test\" : score_test}, index=rel_list)\n",
    "    "
   ]
  },
  {
   "cell_type": "code",
   "execution_count": 9,
   "id": "14de6c8f",
   "metadata": {
    "scrolled": true
   },
   "outputs": [
    {
     "data": {
      "text/plain": [
       "score_train    0.085636\n",
       "score_test    -0.059111\n",
       "dtype: float64"
      ]
     },
     "execution_count": 9,
     "metadata": {},
     "output_type": "execute_result"
    }
   ],
   "source": [
    "df_score.mean()"
   ]
  },
  {
   "cell_type": "code",
   "execution_count": 9,
   "id": "44ad682d",
   "metadata": {},
   "outputs": [],
   "source": [
    "#df_score.to_csv(\"RF1score.csv\")\n",
    "#df_pred.to_csv(\"RF1pred.csv\")"
   ]
  },
  {
   "cell_type": "markdown",
   "id": "d443e498",
   "metadata": {},
   "source": [
    "Loading the predictions"
   ]
  },
  {
   "cell_type": "markdown",
   "id": "edee8f1b",
   "metadata": {},
   "source": [
    "# KNN"
   ]
  },
  {
   "cell_type": "code",
   "execution_count": 12,
   "id": "68e135dc",
   "metadata": {},
   "outputs": [],
   "source": [
    "from sklearn.neighbors import KNeighborsRegressor"
   ]
  },
  {
   "cell_type": "code",
   "execution_count": 13,
   "id": "f36fb266",
   "metadata": {},
   "outputs": [
    {
     "data": {
      "text/plain": [
       "['Ret-1',\n",
       " 'ema14',\n",
       " 'rsi14',\n",
       " 'ema30',\n",
       " 'rsi30',\n",
       " 'ema50',\n",
       " 'rsi50',\n",
       " 'ema200',\n",
       " 'rsi200',\n",
       " 'pvt',\n",
       " 'vol']"
      ]
     },
     "execution_count": 13,
     "metadata": {},
     "output_type": "execute_result"
    }
   ],
   "source": [
    "feature_names"
   ]
  },
  {
   "cell_type": "code",
   "execution_count": 14,
   "id": "760af3b2",
   "metadata": {
    "scrolled": false
   },
   "outputs": [
    {
     "name": "stdout",
     "output_type": "stream",
     "text": [
      "CPU times: total: 1min 33s\n",
      "Wall time: 1min 42s\n"
     ]
    }
   ],
   "source": [
    "%%time\n",
    "\n",
    "score_train_knn = []\n",
    "score_test_knn = []\n",
    "knn_pred = pd.DataFrame(columns=rel_list)\n",
    "\n",
    "for i in rel_list:\n",
    "    frame = pd.DataFrame({'Adj Close': rfdata[\"Adj Close\"][i], 'Volume': rfdata[\"Volume\"][i]})\n",
    "    frame[\"Return\"] = frame[\"Adj Close\"].pct_change()\n",
    "    frame['Ret-1'] = frame['Return'].shift(1)\n",
    "    for n in [14, 30, 50, 200]:\n",
    "        frame['ema' + str(n)] = ta.sma(close=frame['Adj Close'].shift(1), length=n) / frame['Adj Close'].shift(1)\n",
    "        frame['rsi' + str(n)] = ta.rsi(close=frame['Adj Close'].shift(1), length=n) / frame['Adj Close'].shift(1)\n",
    "    frame[\"pvt\"] = ta.pvt(close=frame['Adj Close'].shift(1), volume=frame['Volume'].shift(1))\n",
    "    frame['Vol-1'] = frame['Volume'].shift(1)\n",
    "    frame = frame.dropna()\n",
    "    frame['Vol-1_SMA5'] = ta.sma(close=frame['Vol-1'], length=5)\n",
    "    frame = frame.dropna()\n",
    "    frame[\"vol\"] = frame[\"Vol-1\"] / frame[\"Vol-1_SMA5\"]\n",
    "   \n",
    "\n",
    "    features = frame[feature_names]\n",
    "    targets = frame['Return']\n",
    "    train_features =features[\"2013-01-01\":\"2022-12-30\"]\n",
    "    train_targets = targets[\"2013-01-01\":\"2022-12-30\"]\n",
    "    test_features = features[\"2022-12-30\":]\n",
    "    test_targets = targets[\"2022-12-30\":]\n",
    "    \n",
    "    knn = KNeighborsRegressor(n_neighbors=10)\n",
    "    fit_knn = knn.fit(scale(train_features), train_targets)\n",
    "    \n",
    "    score_train_knn.append(fit_knn.score(scale(train_features), train_targets))\n",
    "    score_test_knn.append(fit_knn.score(scale(test_features), test_targets))\n",
    "    knn_pred[i] = list(fit.predict(scale(test_features)))\n",
    "    \n",
    "    \n",
    "\n",
    "    \n",
    "knn_score = pd.DataFrame({\"score_train\" : score_train_knn, \"score_test\" : score_test_knn}, index=rel_list)"
   ]
  },
  {
   "cell_type": "code",
   "execution_count": 13,
   "id": "fa52cb3b",
   "metadata": {},
   "outputs": [],
   "source": [
    "#knn_score.to_csv(\"KNN1score.csv\")\n",
    "#knn_pred.to_csv(\"KNN1pred.csv\")"
   ]
  },
  {
   "cell_type": "code",
   "execution_count": 16,
   "id": "bbb8d882",
   "metadata": {},
   "outputs": [
    {
     "data": {
      "text/html": [
       "<div>\n",
       "<style scoped>\n",
       "    .dataframe tbody tr th:only-of-type {\n",
       "        vertical-align: middle;\n",
       "    }\n",
       "\n",
       "    .dataframe tbody tr th {\n",
       "        vertical-align: top;\n",
       "    }\n",
       "\n",
       "    .dataframe thead th {\n",
       "        text-align: right;\n",
       "    }\n",
       "</style>\n",
       "<table border=\"1\" class=\"dataframe\">\n",
       "  <thead>\n",
       "    <tr style=\"text-align: right;\">\n",
       "      <th></th>\n",
       "      <th>score_train</th>\n",
       "      <th>score_test</th>\n",
       "    </tr>\n",
       "  </thead>\n",
       "  <tbody>\n",
       "    <tr>\n",
       "      <th>A</th>\n",
       "      <td>0.114099</td>\n",
       "      <td>-0.082259</td>\n",
       "    </tr>\n",
       "    <tr>\n",
       "      <th>AAL</th>\n",
       "      <td>0.116776</td>\n",
       "      <td>-0.052531</td>\n",
       "    </tr>\n",
       "    <tr>\n",
       "      <th>AAPL</th>\n",
       "      <td>0.128821</td>\n",
       "      <td>-0.321000</td>\n",
       "    </tr>\n",
       "    <tr>\n",
       "      <th>ABT</th>\n",
       "      <td>0.109645</td>\n",
       "      <td>-0.166055</td>\n",
       "    </tr>\n",
       "    <tr>\n",
       "      <th>ACGL</th>\n",
       "      <td>0.104678</td>\n",
       "      <td>-0.009900</td>\n",
       "    </tr>\n",
       "    <tr>\n",
       "      <th>...</th>\n",
       "      <td>...</td>\n",
       "      <td>...</td>\n",
       "    </tr>\n",
       "    <tr>\n",
       "      <th>XOM</th>\n",
       "      <td>0.113652</td>\n",
       "      <td>-0.077421</td>\n",
       "    </tr>\n",
       "    <tr>\n",
       "      <th>XYL</th>\n",
       "      <td>0.136803</td>\n",
       "      <td>-0.108540</td>\n",
       "    </tr>\n",
       "    <tr>\n",
       "      <th>YUM</th>\n",
       "      <td>0.109913</td>\n",
       "      <td>-0.096093</td>\n",
       "    </tr>\n",
       "    <tr>\n",
       "      <th>ZBH</th>\n",
       "      <td>0.082112</td>\n",
       "      <td>-0.100816</td>\n",
       "    </tr>\n",
       "    <tr>\n",
       "      <th>ZBRA</th>\n",
       "      <td>0.093383</td>\n",
       "      <td>-0.065464</td>\n",
       "    </tr>\n",
       "  </tbody>\n",
       "</table>\n",
       "<p>448 rows × 2 columns</p>\n",
       "</div>"
      ],
      "text/plain": [
       "      score_train  score_test\n",
       "A        0.114099   -0.082259\n",
       "AAL      0.116776   -0.052531\n",
       "AAPL     0.128821   -0.321000\n",
       "ABT      0.109645   -0.166055\n",
       "ACGL     0.104678   -0.009900\n",
       "...           ...         ...\n",
       "XOM      0.113652   -0.077421\n",
       "XYL      0.136803   -0.108540\n",
       "YUM      0.109913   -0.096093\n",
       "ZBH      0.082112   -0.100816\n",
       "ZBRA     0.093383   -0.065464\n",
       "\n",
       "[448 rows x 2 columns]"
      ]
     },
     "execution_count": 16,
     "metadata": {},
     "output_type": "execute_result"
    }
   ],
   "source": [
    "knn_score"
   ]
  },
  {
   "cell_type": "code",
   "execution_count": null,
   "id": "642185e1",
   "metadata": {},
   "outputs": [],
   "source": []
  }
 ],
 "metadata": {
  "kernelspec": {
   "display_name": "Python 3 (ipykernel)",
   "language": "python",
   "name": "python3"
  },
  "language_info": {
   "codemirror_mode": {
    "name": "ipython",
    "version": 3
   },
   "file_extension": ".py",
   "mimetype": "text/x-python",
   "name": "python",
   "nbconvert_exporter": "python",
   "pygments_lexer": "ipython3",
   "version": "3.9.18"
  }
 },
 "nbformat": 4,
 "nbformat_minor": 5
}
