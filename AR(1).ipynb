{
 "cells": [
  {
   "cell_type": "code",
   "execution_count": 1,
   "id": "20d1507f",
   "metadata": {},
   "outputs": [],
   "source": [
    "import pandas as pd\n",
    "import numpy as np\n",
    "import matplotlib.pyplot as plt\n",
    "import yfinance as yf\n",
    "\n",
    "import statsmodels.api as sm\n",
    "import statsmodels.tsa.arima_process as apro\n",
    "from sklearn.metrics import r2_score"
   ]
  },
  {
   "cell_type": "markdown",
   "id": "85ce4a82",
   "metadata": {},
   "source": [
    "# Mean reversion with daily prices"
   ]
  },
  {
   "cell_type": "code",
   "execution_count": 6,
   "id": "927f534f",
   "metadata": {},
   "outputs": [],
   "source": [
    "with open(\"sp500_list.txt\", \"r\") as f:\n",
    "    sp500_list = [line.strip() for line in f]"
   ]
  },
  {
   "cell_type": "code",
   "execution_count": 11,
   "id": "90c68547",
   "metadata": {},
   "outputs": [
    {
     "data": {
      "text/html": [
       "<div>\n",
       "<style scoped>\n",
       "    .dataframe tbody tr th:only-of-type {\n",
       "        vertical-align: middle;\n",
       "    }\n",
       "\n",
       "    .dataframe tbody tr th {\n",
       "        vertical-align: top;\n",
       "    }\n",
       "\n",
       "    .dataframe thead th {\n",
       "        text-align: right;\n",
       "    }\n",
       "</style>\n",
       "<table border=\"1\" class=\"dataframe\">\n",
       "  <thead>\n",
       "    <tr style=\"text-align: right;\">\n",
       "      <th></th>\n",
       "      <th>A</th>\n",
       "      <th>AAL</th>\n",
       "      <th>AAPL</th>\n",
       "      <th>ABT</th>\n",
       "      <th>ACGL</th>\n",
       "      <th>ACN</th>\n",
       "      <th>ADBE</th>\n",
       "      <th>ADI</th>\n",
       "      <th>ADM</th>\n",
       "      <th>ADP</th>\n",
       "      <th>...</th>\n",
       "      <th>WST</th>\n",
       "      <th>WTW</th>\n",
       "      <th>WY</th>\n",
       "      <th>WYNN</th>\n",
       "      <th>XEL</th>\n",
       "      <th>XOM</th>\n",
       "      <th>XYL</th>\n",
       "      <th>YUM</th>\n",
       "      <th>ZBH</th>\n",
       "      <th>ZBRA</th>\n",
       "    </tr>\n",
       "  </thead>\n",
       "  <tbody>\n",
       "    <tr>\n",
       "      <th>2012-01-03</th>\n",
       "      <td>23.452354</td>\n",
       "      <td>4.826836</td>\n",
       "      <td>12.433825</td>\n",
       "      <td>21.276012</td>\n",
       "      <td>12.493333</td>\n",
       "      <td>42.139866</td>\n",
       "      <td>28.570000</td>\n",
       "      <td>27.088427</td>\n",
       "      <td>20.861462</td>\n",
       "      <td>36.140427</td>\n",
       "      <td>...</td>\n",
       "      <td>17.623835</td>\n",
       "      <td>81.378044</td>\n",
       "      <td>12.017909</td>\n",
       "      <td>84.649750</td>\n",
       "      <td>18.264717</td>\n",
       "      <td>52.614315</td>\n",
       "      <td>21.305161</td>\n",
       "      <td>33.329346</td>\n",
       "      <td>47.259995</td>\n",
       "      <td>35.720001</td>\n",
       "    </tr>\n",
       "    <tr>\n",
       "      <th>2012-01-04</th>\n",
       "      <td>23.265926</td>\n",
       "      <td>4.741990</td>\n",
       "      <td>12.500645</td>\n",
       "      <td>21.193491</td>\n",
       "      <td>12.266667</td>\n",
       "      <td>42.123951</td>\n",
       "      <td>28.280001</td>\n",
       "      <td>27.050842</td>\n",
       "      <td>21.208067</td>\n",
       "      <td>36.100613</td>\n",
       "      <td>...</td>\n",
       "      <td>17.457529</td>\n",
       "      <td>80.916603</td>\n",
       "      <td>11.885774</td>\n",
       "      <td>83.194000</td>\n",
       "      <td>18.144459</td>\n",
       "      <td>52.626541</td>\n",
       "      <td>22.008551</td>\n",
       "      <td>33.556980</td>\n",
       "      <td>46.620407</td>\n",
       "      <td>35.450001</td>\n",
       "    </tr>\n",
       "    <tr>\n",
       "      <th>2012-01-05</th>\n",
       "      <td>23.786655</td>\n",
       "      <td>5.156796</td>\n",
       "      <td>12.639430</td>\n",
       "      <td>21.144733</td>\n",
       "      <td>12.500000</td>\n",
       "      <td>41.320160</td>\n",
       "      <td>28.480000</td>\n",
       "      <td>27.171131</td>\n",
       "      <td>21.114191</td>\n",
       "      <td>36.366077</td>\n",
       "      <td>...</td>\n",
       "      <td>17.476002</td>\n",
       "      <td>82.321846</td>\n",
       "      <td>11.816563</td>\n",
       "      <td>82.324966</td>\n",
       "      <td>18.224625</td>\n",
       "      <td>52.467487</td>\n",
       "      <td>21.694986</td>\n",
       "      <td>33.813053</td>\n",
       "      <td>47.172401</td>\n",
       "      <td>35.400002</td>\n",
       "    </tr>\n",
       "    <tr>\n",
       "      <th>2012-01-06</th>\n",
       "      <td>24.043812</td>\n",
       "      <td>5.279351</td>\n",
       "      <td>12.771558</td>\n",
       "      <td>20.953428</td>\n",
       "      <td>12.486667</td>\n",
       "      <td>41.248528</td>\n",
       "      <td>28.719999</td>\n",
       "      <td>26.990690</td>\n",
       "      <td>20.991438</td>\n",
       "      <td>36.419163</td>\n",
       "      <td>...</td>\n",
       "      <td>17.531435</td>\n",
       "      <td>81.629684</td>\n",
       "      <td>11.967570</td>\n",
       "      <td>79.428307</td>\n",
       "      <td>18.171183</td>\n",
       "      <td>52.075928</td>\n",
       "      <td>21.330578</td>\n",
       "      <td>34.057732</td>\n",
       "      <td>47.295048</td>\n",
       "      <td>35.110001</td>\n",
       "    </tr>\n",
       "    <tr>\n",
       "      <th>2012-01-09</th>\n",
       "      <td>24.673836</td>\n",
       "      <td>5.392481</td>\n",
       "      <td>12.751301</td>\n",
       "      <td>20.949678</td>\n",
       "      <td>12.396667</td>\n",
       "      <td>41.176899</td>\n",
       "      <td>28.530001</td>\n",
       "      <td>27.516968</td>\n",
       "      <td>20.875900</td>\n",
       "      <td>36.279797</td>\n",
       "      <td>...</td>\n",
       "      <td>17.568396</td>\n",
       "      <td>80.937576</td>\n",
       "      <td>11.822856</td>\n",
       "      <td>79.205482</td>\n",
       "      <td>18.184542</td>\n",
       "      <td>52.308403</td>\n",
       "      <td>21.415331</td>\n",
       "      <td>33.926857</td>\n",
       "      <td>47.645531</td>\n",
       "      <td>34.950001</td>\n",
       "    </tr>\n",
       "  </tbody>\n",
       "</table>\n",
       "<p>5 rows × 448 columns</p>\n",
       "</div>"
      ],
      "text/plain": [
       "                    A       AAL       AAPL        ABT       ACGL        ACN  \\\n",
       "2012-01-03  23.452354  4.826836  12.433825  21.276012  12.493333  42.139866   \n",
       "2012-01-04  23.265926  4.741990  12.500645  21.193491  12.266667  42.123951   \n",
       "2012-01-05  23.786655  5.156796  12.639430  21.144733  12.500000  41.320160   \n",
       "2012-01-06  24.043812  5.279351  12.771558  20.953428  12.486667  41.248528   \n",
       "2012-01-09  24.673836  5.392481  12.751301  20.949678  12.396667  41.176899   \n",
       "\n",
       "                 ADBE        ADI        ADM        ADP  ...        WST  \\\n",
       "2012-01-03  28.570000  27.088427  20.861462  36.140427  ...  17.623835   \n",
       "2012-01-04  28.280001  27.050842  21.208067  36.100613  ...  17.457529   \n",
       "2012-01-05  28.480000  27.171131  21.114191  36.366077  ...  17.476002   \n",
       "2012-01-06  28.719999  26.990690  20.991438  36.419163  ...  17.531435   \n",
       "2012-01-09  28.530001  27.516968  20.875900  36.279797  ...  17.568396   \n",
       "\n",
       "                  WTW         WY       WYNN        XEL        XOM        XYL  \\\n",
       "2012-01-03  81.378044  12.017909  84.649750  18.264717  52.614315  21.305161   \n",
       "2012-01-04  80.916603  11.885774  83.194000  18.144459  52.626541  22.008551   \n",
       "2012-01-05  82.321846  11.816563  82.324966  18.224625  52.467487  21.694986   \n",
       "2012-01-06  81.629684  11.967570  79.428307  18.171183  52.075928  21.330578   \n",
       "2012-01-09  80.937576  11.822856  79.205482  18.184542  52.308403  21.415331   \n",
       "\n",
       "                  YUM        ZBH       ZBRA  \n",
       "2012-01-03  33.329346  47.259995  35.720001  \n",
       "2012-01-04  33.556980  46.620407  35.450001  \n",
       "2012-01-05  33.813053  47.172401  35.400002  \n",
       "2012-01-06  34.057732  47.295048  35.110001  \n",
       "2012-01-09  33.926857  47.645531  34.950001  \n",
       "\n",
       "[5 rows x 448 columns]"
      ]
     },
     "execution_count": 11,
     "metadata": {},
     "output_type": "execute_result"
    }
   ],
   "source": [
    "rfdata = pd.read_csv(\"market_data.csv\", index_col=0, low_memory=False)\n",
    "rfdata = rfdata.drop(rfdata.index[[0, 1]])\n",
    "rfdata.columns = pd.MultiIndex.from_arrays(\n",
    "    [[\"Adj Close\"] * len(sp500_list) + [\"Volume\"] * len(sp500_list),\n",
    "     sp500_list * 2]\n",
    ")\n",
    "rfdata.index = pd.to_datetime(rfdata.index)\n",
    "rfdata = rfdata.astype(float)\n",
    "\n",
    "data = rfdata[\"Adj Close\"]\n",
    "data = data.dropna(axis=1)\n",
    "\n",
    "data.head()"
   ]
  },
  {
   "cell_type": "code",
   "execution_count": 13,
   "id": "e59d36f4",
   "metadata": {},
   "outputs": [],
   "source": [
    "%%time\n",
    "\n",
    "train_slice = slice(\"2013-01-01\", \"2023-01-01\")\n",
    "test_slice  = slice(\"2023-01-01\", None)\n",
    "\n",
    "rets = data.pct_change()\n",
    "lag1 = rets.shift(1)\n",
    "\n",
    "score_train_lin, score_test_lin, bench, p_values, corr = [], [], [], [], []\n",
    "lin_pred = pd.DataFrame(index=rets.loc[test_slice].index, columns=data.columns, dtype=float)\n",
    "\n",
    "for col in data.columns:\n",
    "    df_train = pd.concat(\n",
    "        {\"y\": rets.loc[train_slice, col], \"x\": lag1.loc[train_slice, col]}, axis=1\n",
    "    ).dropna()\n",
    "    X_train = sm.add_constant(df_train[\"x\"], has_constant=\"add\")\n",
    "    y_train = df_train[\"y\"]\n",
    "    model = sm.OLS(y_train.to_numpy(), X_train.to_numpy()).fit()\n",
    "\n",
    "    df_test = pd.concat(\n",
    "        {\"y\": rets.loc[test_slice, col], \"x\": lag1.loc[test_slice, col]}, axis=1\n",
    "    ).dropna()\n",
    "    X_test = sm.add_constant(df_test[\"x\"], has_constant=\"add\")\n",
    "    y_test = df_test[\"y\"]\n",
    "    preds = model.predict(X_test)\n",
    "\n",
    "    score_train_lin.append(model.rsquared)\n",
    "    score_test_lin.append(r2_score(y_test, preds))\n",
    "    bench.append(r2_score(y_test, np.zeros(len(y_test))))\n",
    "    p_values.append(model.pvalues[1])\n",
    "    corr.append(y_test.corr(pd.Series(preds, index=y_test.index)))\n",
    "    lin_pred.loc[y_test.index, col] = preds\n",
    "\n",
    "lin_score = pd.DataFrame(\n",
    "    {\n",
    "        \"score_train\": score_train_lin,\n",
    "        \"score_test\": score_test_lin,\n",
    "        \"benchmark\": bench,\n",
    "        \"p_value\": p_values,\n",
    "        \"correlation\": corr,\n",
    "    },\n",
    "    index=data.columns,\n",
    ")\n"
   ]
  },
  {
   "cell_type": "code",
   "execution_count": 14,
   "id": "3f5681d3",
   "metadata": {},
   "outputs": [
    {
     "data": {
      "text/plain": [
       "score_train    0.003966\n",
       "score_test    -0.005593\n",
       "benchmark     -0.004387\n",
       "p_value        0.186823\n",
       "correlation    0.007811\n",
       "dtype: float64"
      ]
     },
     "execution_count": 14,
     "metadata": {},
     "output_type": "execute_result"
    }
   ],
   "source": [
    "lin_score.sort_values(by='score_train', ascending=False).mean()"
   ]
  },
  {
   "cell_type": "code",
   "execution_count": 15,
   "id": "9f17732b",
   "metadata": {},
   "outputs": [],
   "source": [
    "lin_score.to_csv(\"LIN1score.csv\")\n",
    "lin_pred.to_csv(\"LIN1pred.csv\")"
   ]
  },
  {
   "cell_type": "markdown",
   "id": "e2253a61",
   "metadata": {},
   "source": [
    "An example"
   ]
  },
  {
   "cell_type": "code",
   "execution_count": 16,
   "id": "211adca5",
   "metadata": {
    "scrolled": true
   },
   "outputs": [
    {
     "data": {
      "text/html": [
       "<div>\n",
       "<style scoped>\n",
       "    .dataframe tbody tr th:only-of-type {\n",
       "        vertical-align: middle;\n",
       "    }\n",
       "\n",
       "    .dataframe tbody tr th {\n",
       "        vertical-align: top;\n",
       "    }\n",
       "\n",
       "    .dataframe thead th {\n",
       "        text-align: right;\n",
       "    }\n",
       "</style>\n",
       "<table border=\"1\" class=\"dataframe\">\n",
       "  <thead>\n",
       "    <tr style=\"text-align: right;\">\n",
       "      <th></th>\n",
       "      <th>Return</th>\n",
       "      <th>Ret-1</th>\n",
       "    </tr>\n",
       "  </thead>\n",
       "  <tbody>\n",
       "    <tr>\n",
       "      <th>2012-01-03</th>\n",
       "      <td>NaN</td>\n",
       "      <td>NaN</td>\n",
       "    </tr>\n",
       "    <tr>\n",
       "      <th>2012-01-04</th>\n",
       "      <td>-0.006384</td>\n",
       "      <td>NaN</td>\n",
       "    </tr>\n",
       "    <tr>\n",
       "      <th>2012-01-05</th>\n",
       "      <td>0.007102</td>\n",
       "      <td>-0.006384</td>\n",
       "    </tr>\n",
       "    <tr>\n",
       "      <th>2012-01-06</th>\n",
       "      <td>0.000000</td>\n",
       "      <td>0.007102</td>\n",
       "    </tr>\n",
       "    <tr>\n",
       "      <th>2012-01-09</th>\n",
       "      <td>0.012760</td>\n",
       "      <td>0.000000</td>\n",
       "    </tr>\n",
       "    <tr>\n",
       "      <th>...</th>\n",
       "      <td>...</td>\n",
       "      <td>...</td>\n",
       "    </tr>\n",
       "    <tr>\n",
       "      <th>2023-12-22</th>\n",
       "      <td>0.008573</td>\n",
       "      <td>0.009868</td>\n",
       "    </tr>\n",
       "    <tr>\n",
       "      <th>2023-12-26</th>\n",
       "      <td>0.015276</td>\n",
       "      <td>0.008573</td>\n",
       "    </tr>\n",
       "    <tr>\n",
       "      <th>2023-12-27</th>\n",
       "      <td>0.002459</td>\n",
       "      <td>0.015276</td>\n",
       "    </tr>\n",
       "    <tr>\n",
       "      <th>2023-12-28</th>\n",
       "      <td>0.002862</td>\n",
       "      <td>0.002459</td>\n",
       "    </tr>\n",
       "    <tr>\n",
       "      <th>2023-12-29</th>\n",
       "      <td>-0.007338</td>\n",
       "      <td>0.002862</td>\n",
       "    </tr>\n",
       "  </tbody>\n",
       "</table>\n",
       "<p>3018 rows × 2 columns</p>\n",
       "</div>"
      ],
      "text/plain": [
       "              Return     Ret-1\n",
       "2012-01-03       NaN       NaN\n",
       "2012-01-04 -0.006384       NaN\n",
       "2012-01-05  0.007102 -0.006384\n",
       "2012-01-06  0.000000  0.007102\n",
       "2012-01-09  0.012760  0.000000\n",
       "...              ...       ...\n",
       "2023-12-22  0.008573  0.009868\n",
       "2023-12-26  0.015276  0.008573\n",
       "2023-12-27  0.002459  0.015276\n",
       "2023-12-28  0.002862  0.002459\n",
       "2023-12-29 -0.007338  0.002862\n",
       "\n",
       "[3018 rows x 2 columns]"
      ]
     },
     "execution_count": 16,
     "metadata": {},
     "output_type": "execute_result"
    }
   ],
   "source": [
    "TXN = data[\"TXN\"].pct_change().to_frame()\n",
    "TXN.columns = [\"Return\"]\n",
    "TXN[\"Ret-1\"] = TXN[\"Return\"].shift(1)\n",
    "TXN"
   ]
  },
  {
   "cell_type": "code",
   "execution_count": 17,
   "id": "247029ad",
   "metadata": {},
   "outputs": [],
   "source": [
    "y = TXN[\"Return\"][\"2013-01-01\":\"2023-01-01\"]\n",
    "X = TXN[\"Ret-1\"][\"2013-01-01\":\"2023-01-01\"]"
   ]
  },
  {
   "cell_type": "code",
   "execution_count": 18,
   "id": "be7f6d9a",
   "metadata": {},
   "outputs": [
    {
     "name": "stdout",
     "output_type": "stream",
     "text": [
      "                            OLS Regression Results                            \n",
      "==============================================================================\n",
      "Dep. Variable:                      y   R-squared:                       0.029\n",
      "Model:                            OLS   Adj. R-squared:                  0.029\n",
      "Method:                 Least Squares   F-statistic:                     75.95\n",
      "Date:                Mon, 22 Sep 2025   Prob (F-statistic):           5.17e-18\n",
      "Time:                        10:35:49   Log-Likelihood:                 6698.0\n",
      "No. Observations:                2518   AIC:                        -1.339e+04\n",
      "Df Residuals:                    2516   BIC:                        -1.338e+04\n",
      "Df Model:                           1                                         \n",
      "Covariance Type:            nonrobust                                         \n",
      "==============================================================================\n",
      "                 coef    std err          t      P>|t|      [0.025      0.975]\n",
      "------------------------------------------------------------------------------\n",
      "const          0.0011      0.000      3.189      0.001       0.000       0.002\n",
      "x1            -0.1712      0.020     -8.715      0.000      -0.210      -0.133\n",
      "==============================================================================\n",
      "Omnibus:                      280.376   Durbin-Watson:                   2.001\n",
      "Prob(Omnibus):                  0.000   Jarque-Bera (JB):             2524.911\n",
      "Skew:                          -0.049   Prob(JB):                         0.00\n",
      "Kurtosis:                       7.905   Cond. No.                         58.2\n",
      "==============================================================================\n",
      "\n",
      "Notes:\n",
      "[1] Standard Errors assume that the covariance matrix of the errors is correctly specified.\n"
     ]
    }
   ],
   "source": [
    "X = sm.add_constant(X)  # Adding a constant term to the predictor\n",
    "regression_model = sm.OLS(np.array(y), np.array(X))\n",
    "regression_result = regression_model.fit()\n",
    "\n",
    "print(regression_result.summary())"
   ]
  },
  {
   "cell_type": "code",
   "execution_count": 19,
   "id": "0461c77e",
   "metadata": {},
   "outputs": [
    {
     "data": {
      "text/plain": [
       "5.173171330007896e-18"
      ]
     },
     "execution_count": 19,
     "metadata": {},
     "output_type": "execute_result"
    }
   ],
   "source": [
    "regression_result.pvalues[1]"
   ]
  },
  {
   "cell_type": "code",
   "execution_count": 20,
   "id": "b3701db6",
   "metadata": {},
   "outputs": [],
   "source": [
    "test_targets = TXN[\"Ret-1\"][\"2023-01-01\":]\n",
    "test_features = sm.add_constant(TXN[\"Return\"][\"2023-01-01\":])"
   ]
  },
  {
   "cell_type": "code",
   "execution_count": 21,
   "id": "462f0391",
   "metadata": {
    "scrolled": false
   },
   "outputs": [
    {
     "data": {
      "text/plain": [
       "-0.01341155506655256"
      ]
     },
     "execution_count": 21,
     "metadata": {},
     "output_type": "execute_result"
    }
   ],
   "source": [
    "r2_score(test_targets,regression_result.predict(test_features))"
   ]
  },
  {
   "cell_type": "code",
   "execution_count": 22,
   "id": "f53ccb77",
   "metadata": {},
   "outputs": [
    {
     "data": {
      "text/plain": [
       "0.05139722489908582"
      ]
     },
     "execution_count": 22,
     "metadata": {},
     "output_type": "execute_result"
    }
   ],
   "source": [
    "test_targets.corr(regression_result.predict(test_features))"
   ]
  },
  {
   "cell_type": "markdown",
   "id": "1e37b300",
   "metadata": {},
   "source": [
    "# With weekly prices"
   ]
  },
  {
   "cell_type": "code",
   "execution_count": 17,
   "id": "fff190c4",
   "metadata": {
    "scrolled": true
   },
   "outputs": [
    {
     "name": "stdout",
     "output_type": "stream",
     "text": [
      "CPU times: total: 17.7 s\n",
      "Wall time: 18.6 s\n"
     ]
    }
   ],
   "source": [
    "%%time\n",
    "\n",
    "score_train_lin = []\n",
    "score_test_lin = []\n",
    "bench= []\n",
    "p_values = []\n",
    "corr = []\n",
    "lin_pred = pd.DataFrame(columns=data.columns)\n",
    "\n",
    "for i in data.columns:\n",
    "    frame = data[i].resample('W').last().pct_change().to_frame()\n",
    "    frame.columns = [\"Return\"]\n",
    "    frame[\"Ret-1\"] = frame[\"Return\"].shift(1)\n",
    "    \n",
    "    y = frame[\"Return\"][\"2013-01-11\":\"2023-01-02\"]\n",
    "    X = frame[\"Ret-1\"][\"2013-01-11\":\"2023-01-02\"]\n",
    "    X = sm.add_constant(X)  # Adding a constant term to the predictor\n",
    "    regression_model = sm.OLS(np.array(y), np.array(X))\n",
    "    regression_result = regression_model.fit()\n",
    "    \n",
    "    test_targets = frame[\"Return\"][\"2023-01-02\":]\n",
    "    test_features = sm.add_constant(frame[\"Ret-1\"][\"2023-01-02\":])\n",
    "    \n",
    "    score_test_lin.append(r2_score(test_targets,regression_result.predict(test_features)))\n",
    "    score_train_lin.append(regression_result.rsquared)\n",
    "    bench.append(r2_score(test_targets, [0] * len(test_targets)))\n",
    "    p_values.append(regression_result.pvalues[1])                                              \n",
    "                                                  \n",
    "    lin_pred[i] = list(regression_result.predict(test_features))\n",
    "    corr.append(test_targets.corr(regression_result.predict(test_features)))\n",
    "    \n",
    "\n",
    "lin_score = pd.DataFrame({\"score_train\" : score_train_lin, \"score_test\": score_test_lin, \"benchmark\" : bench, \"p_value\": p_values, \"correlation\" : corr}, index=data.columns)\n",
    "    \n",
    "    \n",
    "    \n",
    "    \n",
    "    \n",
    "    \n",
    "    "
   ]
  },
  {
   "cell_type": "code",
   "execution_count": 14,
   "id": "e1365356",
   "metadata": {},
   "outputs": [
    {
     "data": {
      "text/plain": [
       "score_train    0.009246\n",
       "score_test    -0.019002\n",
       "benchmark     -0.021214\n",
       "p_value        0.232417\n",
       "correlation    0.029035\n",
       "dtype: float64"
      ]
     },
     "execution_count": 14,
     "metadata": {},
     "output_type": "execute_result"
    }
   ],
   "source": [
    "lin_score.sort_values(by='score_train', ascending=True).mean()"
   ]
  },
  {
   "cell_type": "code",
   "execution_count": 18,
   "id": "bbdee7cc",
   "metadata": {},
   "outputs": [],
   "source": [
    "lin_score.to_csv(\"LIN7score.csv\")\n",
    "lin_pred.to_csv(\"LIN7pred.csv\")"
   ]
  },
  {
   "cell_type": "code",
   "execution_count": null,
   "id": "1e6574b6",
   "metadata": {},
   "outputs": [],
   "source": []
  }
 ],
 "metadata": {
  "kernelspec": {
   "display_name": "Python 3 (ipykernel)",
   "language": "python",
   "name": "python3"
  },
  "language_info": {
   "codemirror_mode": {
    "name": "ipython",
    "version": 3
   },
   "file_extension": ".py",
   "mimetype": "text/x-python",
   "name": "python",
   "nbconvert_exporter": "python",
   "pygments_lexer": "ipython3",
   "version": "3.9.18"
  }
 },
 "nbformat": 4,
 "nbformat_minor": 5
}
